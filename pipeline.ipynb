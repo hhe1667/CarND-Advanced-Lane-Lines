{
 "cells": [
  {
   "cell_type": "code",
   "execution_count": 41,
   "metadata": {},
   "outputs": [],
   "source": [
    "import cv2\n",
    "import glob\n",
    "import matplotlib.pyplot as plt\n",
    "import numpy as np\n",
    "import os.path\n",
    "import pickle\n",
    "%matplotlib inline\n",
    "\n",
    "def threshold_image(img):\n",
    "  height, width, _ = img.shape\n",
    "\n",
    "  # RGB color mask\n",
    "  rgb_low = np.array([200, 200, 20])\n",
    "  rgb_high = np.array([255]*3)\n",
    "  rgb_binary = cv2.inRange(img, rgb_low, rgb_high).astype(np.bool)\n",
    "  \n",
    "  # S channel mask\n",
    "  hls = cv2.cvtColor(img, cv2.COLOR_RGB2HLS)\n",
    "  s_channel = hls[:,:, 2]\n",
    "  s_channel_binary = np.zeros_like(s_channel)\n",
    "  s_channel_binary[s_channel >= 150] = 1\n",
    "  \n",
    "  # Gradient mask\n",
    "  gray = cv2.cvtColor(img, cv2.COLOR_RGB2GRAY)\n",
    "  kernel_size = 5\n",
    "  blur_gray = cv2.GaussianBlur(img, (kernel_size, kernel_size), 0)\n",
    "  edges = cv2.Canny(blur_gray, 50, 150).astype(np.bool)\n",
    "  \n",
    "  combined_color = np.zeros_like(img)\n",
    "  combined_color[rgb_binary, 0] = 255\n",
    "  combined_color[(s_channel_binary > 0), 1] = 255\n",
    "  combined_color[edges, 2] = 255\n",
    "\n",
    "  combined_binary = np.zeros_like(gray)\n",
    "  combined_binary[rgb_binary | (s_channel_binary > 0) | edges] = 255\n",
    "  return combined_color, combined_binary\n",
    "  "
   ]
  },
  {
   "cell_type": "code",
   "execution_count": null,
   "metadata": {},
   "outputs": [],
   "source": [
    "images = glob.glob(\"test_images/*.jpg\")\n",
    "fig, axes = plt.subplots(len(images), 3, figsize=(30, 10*len(images)))\n",
    "fig.tight_layout()\n",
    "for i, fname in enumerate(images):\n",
    "  img = cv2.imread(fname)\n",
    "  img = cv2.cvtColor(img, cv2.COLOR_BGR2RGB)\n",
    "  combined_color, combined_binary = threshold_image(img)\n",
    "  base_name = os.path.basename(fname)\n",
    "  cv2.imwrite(\"output_images/\" + base_name, combined_binary)\n",
    "  axes[i, 0].imshow(img)\n",
    "  axes[i, 0].set_title(base_name, fontsize=32)\n",
    "  axes[i, 1].imshow(combined_color)\n",
    "  axes[i, 2].imshow(combined_binary, cmap = 'gray')"
   ]
  }
 ],
 "metadata": {
  "kernelspec": {
   "display_name": "Python 3",
   "language": "python",
   "name": "python3"
  },
  "language_info": {
   "codemirror_mode": {
    "name": "ipython",
    "version": 3
   },
   "file_extension": ".py",
   "mimetype": "text/x-python",
   "name": "python",
   "nbconvert_exporter": "python",
   "pygments_lexer": "ipython3",
   "version": "3.5.2"
  },
  "widgets": {
   "state": {},
   "version": "1.1.2"
  }
 },
 "nbformat": 4,
 "nbformat_minor": 2
}
